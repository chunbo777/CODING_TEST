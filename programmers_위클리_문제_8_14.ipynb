{
  "nbformat": 4,
  "nbformat_minor": 0,
  "metadata": {
    "colab": {
      "name": "programmers_위클리 문제.8.14",
      "provenance": [],
      "authorship_tag": "ABX9TyPnLsLpzfy3ZgQ7Mu99v7e3"
    },
    "kernelspec": {
      "name": "python3",
      "display_name": "Python 3"
    },
    "language_info": {
      "name": "python"
    }
  },
  "cells": [
    {
      "cell_type": "code",
      "metadata": {
        "id": "PDAies807-J2"
      },
      "source": [
        "def transpose(scores):\n",
        "    score_t=[]\n",
        "    for i, lim in enumerate(scores):\n",
        "        score_j=[]\n",
        "        for  j, li in enumerate(lim):\n",
        "            score_j.append(scores[j][i])\n",
        "        score_t.append(score_j)\n",
        "    return score_t"
      ],
      "execution_count": 1,
      "outputs": []
    },
    {
      "cell_type": "code",
      "metadata": {
        "id": "z_EG6_W9bFCq"
      },
      "source": [
        "def solution(scores):\n",
        "    score_list=[]\n",
        "    for  i, li in enumerate(scores):\n",
        "        final_score=0\n",
        "        if (li[i]==max(li) or min(li)) and li.count(li[i])<2:\n",
        "            final_score=(sum(li)-li[i])/(len(li)-1)\n",
        "        else:\n",
        "            final_score=sum(li)/len(li)\n",
        "            \n",
        "        if final_score>=90:\n",
        "            score_list.append(\"A\")\n",
        "        elif final_score>=80:\n",
        "            score_list.append(\"B\")\n",
        "        elif final_score>=70:\n",
        "            score_list.append(\"C\")\n",
        "        elif final_score>=50:\n",
        "            score_list.append(\"D\")\n",
        "        else:\n",
        "            score_list.append(\"F\")\n",
        "    return \"\".join(score_list)"
      ],
      "execution_count": 2,
      "outputs": []
    },
    {
      "cell_type": "code",
      "metadata": {
        "id": "9q-x6DLCNxwF"
      },
      "source": [
        "def sol(scores):\n",
        "    return solution(transpose(scores))"
      ],
      "execution_count": 12,
      "outputs": []
    },
    {
      "cell_type": "code",
      "metadata": {
        "id": "GJJDODaFN6Rb"
      },
      "source": [
        ""
      ],
      "execution_count": null,
      "outputs": []
    }
  ]
}