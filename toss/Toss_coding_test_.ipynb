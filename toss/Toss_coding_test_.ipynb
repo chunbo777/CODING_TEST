{
  "nbformat": 4,
  "nbformat_minor": 0,
  "metadata": {
    "colab": {
      "name": "Toss_coding_test .ipynb",
      "provenance": [],
      "authorship_tag": "ABX9TyO4bH3cGely5eX/9+tfCDf9",
      "include_colab_link": true
    },
    "kernelspec": {
      "name": "python3",
      "display_name": "Python 3"
    },
    "language_info": {
      "name": "python"
    }
  },
  "cells": [
    {
      "cell_type": "markdown",
      "metadata": {
        "id": "view-in-github",
        "colab_type": "text"
      },
      "source": [
        "<a href=\"https://colab.research.google.com/github/chunbo777/CODING_TEST/blob/main/Toss_coding_test_.ipynb\" target=\"_parent\"><img src=\"https://colab.research.google.com/assets/colab-badge.svg\" alt=\"Open In Colab\"/></a>"
      ]
    },
    {
      "cell_type": "code",
      "metadata": {
        "id": "XHHTHkhdOBM_"
      },
      "source": [
        "#test1\n",
        "\n",
        "def solution(data):\n",
        "    data_list=list(data.lower())\n",
        "    new_list=[]\n",
        "    toss_list=[]\n",
        "    dict1={}\n",
        "    key_list=[]\n",
        "    for x in data_list: \n",
        "        dict1[x]=data_list.count(x)\n",
        "\n",
        "    for key, value in dict1.items():\n",
        "        if dict1[key]==max(dict1.values()):\n",
        "            key_list.append(key)\n",
        "    #key_list에 높은 빈도를 반환\n",
        "    key_list=list(set(key_list))\n",
        "    key_list.sort()\n",
        "    for data in key_list:\n",
        "        if data in  [\"T\", \"O\", \"S\", \"t\", \"o\", \"s\"]:\n",
        "            toss_list.append(data)\n",
        "        if data not in  [\"T\", \"O\", \"S\", \"t\", \"o\", \"s\"]:\n",
        "            new_list.append(data)\n",
        "    \n",
        "\n",
        "\n",
        "    list2= list(set(toss_list))\n",
        "    key_t=[]\n",
        "    key_o=[]\n",
        "    key_s=[]\n",
        "    for x in list2:\n",
        "        if x in[ \"T\" , \"t\"]:\n",
        "            key_t.append(x)\n",
        "        elif x in [\"O\", \"o\"]:\n",
        "            key_o.append(x)\n",
        "        elif x in [\"S\" , \"s\"]:\n",
        "            key_s.append(x)\n",
        "    key_tos=key_t+key_o+key_s\n",
        "    \n",
        "    return (str(''.join(key_tos)).upper()).replace(\"S\",\"SS\")+str(\"\".join(new_list)).lower()\n",
        "\n"
      ],
      "execution_count": 192,
      "outputs": []
    },
    {
      "cell_type": "code",
      "metadata": {
        "id": "SgTQZ5phWfWN"
      },
      "source": [
        "data=\"aaBBTtooSS\""
      ],
      "execution_count": 191,
      "outputs": []
    },
    {
      "cell_type": "code",
      "metadata": {
        "colab": {
          "base_uri": "https://localhost:8080/",
          "height": 37
        },
        "id": "gn6SsoDkWh63",
        "outputId": "92b3d1f4-643d-49d5-a3a9-d7e18c10ebd2"
      },
      "source": [
        "solution(data)"
      ],
      "execution_count": 193,
      "outputs": [
        {
          "output_type": "execute_result",
          "data": {
            "application/vnd.google.colaboratory.intrinsic+json": {
              "type": "string"
            },
            "text/plain": [
              "'TOSSab'"
            ]
          },
          "metadata": {
            "tags": []
          },
          "execution_count": 193
        }
      ]
    },
    {
      "cell_type": "code",
      "metadata": {
        "id": "Wcc9eoRVWmy0"
      },
      "source": [
        "\n",
        "#test 2\n",
        "def solution(price):\n",
        "    stock_day=[]\n",
        "    for day, pr in enumerate(price):\n",
        "        stock_num=100000000//price[day]\n",
        "        remains=100000000%price[day]\n",
        "        # print(stock_num, remains)\n",
        "        otherday_stock_num=0\n",
        "        for otherday in range(0,len(price)):    \n",
        "            if ((price[day]/2) >= price[otherday]) and otherday>=day :\n",
        "                # print(price[day],price[otherday])\n",
        "                otherday_stock_num=(50000000+remains)//price[otherday]\n",
        "                otherday_stock_rem=(50000000+remains)%price[otherday]\n",
        "                print(otherday)\n",
        "                stock_num+=otherday_stock_num\n",
        "                remains-=50000000\n",
        "                remains+=otherday_stock_rem\n",
        "                break\n",
        "        stock_day.append([stock_num, remains, otherday])\n",
        "    print(stock_day)\n",
        "    \n",
        "    stock_dict={}\n",
        "    for i, [stock_num, remains,otherday] in enumerate(stock_day):\n",
        "         for day, pr in enumerate(price):\n",
        "            # print((price[day]*stock_num)+remains)\n",
        "            if ((price[day]*stock_num)+remains)>=1000000000 and i<day:\n",
        "                stock_dict[i]=day-i\n",
        "                # print(stock_dict)\n",
        "                break\n",
        "                \n",
        "            else: \n",
        "                stock_dict[i]=-1\n",
        "    return list(stock_dict.values())"
      ],
      "execution_count": null,
      "outputs": []
    }
  ]
}